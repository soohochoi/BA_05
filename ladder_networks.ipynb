{
 "cells": [
  {
   "cell_type": "code",
   "execution_count": 6,
   "id": "ff7e34db",
   "metadata": {},
   "outputs": [],
   "source": [
    "#cpu\n",
    "#pip install tensorflow==1.14.0\n",
    "#gpu\n",
    "#pip install tensorflow-gpu"
   ]
  },
  {
   "cell_type": "code",
   "execution_count": 7,
   "id": "075bd6ff",
   "metadata": {},
   "outputs": [],
   "source": [
    "#케라스 install\n",
    "#!pip install q keras==2.2.5"
   ]
  },
  {
   "cell_type": "code",
   "execution_count": null,
   "id": "d0b17d3d",
   "metadata": {},
   "outputs": [
    {
     "name": "stdout",
     "output_type": "stream",
     "text": [
      "Epoch 1/100\n",
      " 4896/60000 [=>............................] - ETA: 1:42 - loss: 31.6743 - acc: 0.8133 - final_loss: 30.8661"
     ]
    }
   ],
   "source": [
    "#from keras.datasets import mnist\n",
    "from tensorflow.keras.datasets import fashion_mnist\n",
    "import keras\n",
    "import random\n",
    "from sklearn.metrics import accuracy_score\n",
    "import numpy as np\n",
    "from ladder_networks import ladder_network\n",
    "\n",
    "# mnist 데이터의 사이즈\n",
    "data_size = 28*28\n",
    "#y값의 갯수\n",
    "labels = 10\n",
    "#데이터를 불러옴\n",
    "(x_train, y_train), (x_test, y_test) =  fashion_mnist.load_data()\n",
    "#28*28을 1*784로 만들어주고 255를 나눠서 데이터를 정규화하기위한 방법\n",
    "x_train = x_train.reshape(60000, data_size).astype('float32')/255\n",
    "x_test  = x_test.reshape(10000,  data_size).astype('float32')/255\n",
    "#카태고리컬 하게 라벨들을 바꾸어줌 one-hot 인코딩임\n",
    "y_train = keras.utils.to_categorical(y_train, labels)\n",
    "y_test  = keras.utils.to_categorical(y_test,  labels)\n",
    "\n",
    "# 100개 데이터 랜덤추출\n",
    "numbers_shape = range(x_train.shape[0])\n",
    "random.seed(2023)\n",
    "numbers_shape = np.random.choice(x_train.shape[0], 100)\n",
    "\n",
    "Unlabeled_x_train = x_train\n",
    "labeled_x_train = x_train[numbers_shape]\n",
    "labeled_y_train = y_train[numbers_shape]\n",
    "#몫으로 나눈다음 concat해서 traindata 갯수 맞춰주기\n",
    "quont = Unlabeled_x_train.shape[0] // labeled_x_train.shape[0]\n",
    "labeled_x_train_quont = np.concatenate([labeled_x_train]*quont)\n",
    "labeled_y_train_quont = np.concatenate([labeled_y_train]*quont)\n",
    "\n",
    "# 모델생성\n",
    "model = ladder_network(layer_sizes=[data_size, 1000, 500, 250, 250, 250, labels])\n",
    "\n",
    "# 배치사이즈를 100번 돌림\n",
    "for _ in range(100):\n",
    "    model.fit([labeled_x_train_quont, Unlabeled_x_train], labeled_y_train_quont, epochs=100)\n",
    "    y_test_pr = model.test_model.predict(x_test, batch_size=100)\n",
    "    print(\"Test 정확도는 %f 나왔습니다.\" % accuracy_score(y_test.argmax(-1), y_test_pr.argmax(-1)))\n"
   ]
  },
  {
   "cell_type": "code",
   "execution_count": null,
   "id": "9ea4e953",
   "metadata": {},
   "outputs": [],
   "source": []
  }
 ],
 "metadata": {
  "kernelspec": {
   "display_name": "Python 3",
   "language": "python",
   "name": "python3"
  },
  "language_info": {
   "codemirror_mode": {
    "name": "ipython",
    "version": 3
   },
   "file_extension": ".py",
   "mimetype": "text/x-python",
   "name": "python",
   "nbconvert_exporter": "python",
   "pygments_lexer": "ipython3",
   "version": "3.6.13"
  }
 },
 "nbformat": 4,
 "nbformat_minor": 5
}
